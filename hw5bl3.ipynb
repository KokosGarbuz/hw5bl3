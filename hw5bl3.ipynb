{
 "cells": [
  {
   "cell_type": "markdown",
   "metadata": {},
   "source": [
    "1.1"
   ]
  },
  {
   "cell_type": "code",
   "execution_count": 2,
   "metadata": {},
   "outputs": [
    {
     "name": "stdout",
     "output_type": "stream",
     "text": [
      "   accelerometer_X  accelerometer_Y  accelerometer_Z\n",
      "0         1.000776         4.616021         8.576031\n",
      "1         0.718261         4.209007         8.446744\n",
      "2        -0.909797        -0.282516         9.203311\n",
      "3         5.099650         0.148441         8.418014\n",
      "4         1.762132        -0.162806         9.251195\n"
     ]
    }
   ],
   "source": [
    "import os\n",
    "import pandas as pd\n",
    "\n",
    "def get_all_files_in_folder(folder, extension='.csv'):\n",
    "    all_files = []\n",
    "    for root, dirs, files in os.walk(folder):\n",
    "        for file in files:\n",
    "            if file.endswith(extension):\n",
    "                file_path = os.path.join(root, file)\n",
    "                all_files.append(file_path)\n",
    "    return all_files\n",
    "\n",
    "data_folder = 'data'\n",
    "\n",
    "csv_files = get_all_files_in_folder(data_folder)\n",
    "\n",
    "merged_df = pd.DataFrame()\n",
    "\n",
    "for csv_file in csv_files:\n",
    "    df = pd.read_csv(csv_file)\n",
    "    merged_df = pd.concat([merged_df, df], ignore_index=True)\n",
    "\n",
    "print(merged_df.head())"
   ]
  },
  {
   "cell_type": "markdown",
   "metadata": {},
   "source": [
    "1.2"
   ]
  },
  {
   "cell_type": "code",
   "execution_count": 3,
   "metadata": {},
   "outputs": [
    {
     "name": "stdout",
     "output_type": "stream",
     "text": [
      "Ознаки (features):\n",
      "   accelerometer_X  accelerometer_Y  accelerometer_Z\n",
      "0         1.000776         4.616021         8.576031\n",
      "1         0.718261         4.209007         8.446744\n",
      "2        -0.909797        -0.282516         9.203311\n",
      "3         5.099650         0.148441         8.418014\n",
      "4         1.762132        -0.162806         9.251195\n",
      "\n",
      "Цільова змінна (target):\n",
      "0    Class1\n",
      "1    Class2\n",
      "2    Class3\n",
      "3    Class1\n",
      "4    Class2\n",
      "Name: activity, dtype: object\n"
     ]
    }
   ],
   "source": [
    "from itertools import cycle\n",
    "\n",
    "class_labels = cycle([\"Class1\", \"Class2\", \"Class3\"])\n",
    "\n",
    "merged_df['activity'] = [next(class_labels) for _ in range(len(merged_df))]\n",
    "\n",
    "X = merged_df[['accelerometer_X', 'accelerometer_Y', 'accelerometer_Z']]\n",
    "y = merged_df['activity']\n",
    "\n",
    "print(\"Ознаки (features):\")\n",
    "print(X.head())\n",
    "print(\"\\nЦільова змінна (target):\")\n",
    "print(y.head())\n"
   ]
  },
  {
   "cell_type": "markdown",
   "metadata": {},
   "source": [
    "2.1"
   ]
  },
  {
   "cell_type": "code",
   "execution_count": 4,
   "metadata": {},
   "outputs": [
    {
     "name": "stdout",
     "output_type": "stream",
     "text": [
      "Розмір тренувального набору: (155088, 3)\n",
      "Розмір тестового набору: (38772, 3)\n"
     ]
    }
   ],
   "source": [
    "from sklearn.model_selection import train_test_split\n",
    "\n",
    "X_train, X_test, y_train, y_test = train_test_split(X, y, test_size=0.2, random_state=42)\n",
    "\n",
    "print(\"Розмір тренувального набору:\", X_train.shape)\n",
    "print(\"Розмір тестового набору:\", X_test.shape)\n"
   ]
  },
  {
   "cell_type": "markdown",
   "metadata": {},
   "source": [
    "2.2"
   ]
  },
  {
   "cell_type": "code",
   "execution_count": 5,
   "metadata": {},
   "outputs": [],
   "source": [
    "X_train_features = pd.DataFrame()\n",
    "\n",
    "for column in X_train.columns:\n",
    "    X_train_features[column + '_mean'] = X_train[column].mean()\n",
    "    X_train_features[column + '_std'] = X_train[column].std()\n",
    "    X_train_features[column + '_median'] = X_train[column].median()\n",
    "\n",
    "X_test_features = pd.DataFrame()\n",
    "\n",
    "for column in X_test.columns:\n",
    "    X_test_features[column + '_mean'] = X_test[column].mean()\n",
    "    X_test_features[column + '_std'] = X_test[column].std()\n",
    "    X_test_features[column + '_median'] = X_test[column].median()\n"
   ]
  },
  {
   "cell_type": "markdown",
   "metadata": {},
   "source": [
    "3"
   ]
  },
  {
   "cell_type": "code",
   "execution_count": 12,
   "metadata": {},
   "outputs": [
    {
     "name": "stdout",
     "output_type": "stream",
     "text": [
      "Classification Report for SVM:\n",
      "               precision    recall  f1-score   support\n",
      "\n",
      "      Class1       0.31      0.15      0.20     51605\n",
      "      Class2       0.32      0.33      0.33     51654\n",
      "      Class3       0.33      0.49      0.39     51829\n",
      "\n",
      "    accuracy                           0.32    155088\n",
      "   macro avg       0.32      0.32      0.31    155088\n",
      "weighted avg       0.32      0.32      0.31    155088\n",
      "\n",
      "Classification Report for Random Forest:\n",
      "               precision    recall  f1-score   support\n",
      "\n",
      "      Class1       0.17      0.17      0.17     51605\n",
      "      Class2       0.17      0.17      0.17     51654\n",
      "      Class3       0.17      0.17      0.17     51829\n",
      "\n",
      "    accuracy                           0.17    155088\n",
      "   macro avg       0.17      0.17      0.17    155088\n",
      "weighted avg       0.17      0.17      0.17    155088\n",
      "\n"
     ]
    }
   ],
   "source": [
    "from sklearn.model_selection import cross_val_predict\n",
    "from sklearn.metrics import classification_report\n",
    "from sklearn.svm import SVC\n",
    "from sklearn.ensemble import RandomForestClassifier\n",
    "\n",
    "svm_model = SVC()\n",
    "y_pred_svm = cross_val_predict(svm_model, X_train, y_train, cv=5, n_jobs=-1)\n",
    "\n",
    "svm_report = classification_report(y_train, y_pred_svm)\n",
    "print(\"Classification Report for SVM:\\n\", svm_report)\n",
    "\n",
    "rf_model = RandomForestClassifier()\n",
    "y_pred_rf = cross_val_predict(rf_model, X_train, y_train, cv=5, n_jobs=-1)\n",
    "\n",
    "rf_report = classification_report(y_train, y_pred_rf)\n",
    "print(\"Classification Report for Random Forest:\\n\", rf_report)\n"
   ]
  },
  {
   "cell_type": "markdown",
   "metadata": {},
   "source": [
    "4"
   ]
  },
  {
   "cell_type": "code",
   "execution_count": 15,
   "metadata": {},
   "outputs": [
    {
     "name": "stdout",
     "output_type": "stream",
     "text": [
      "Середня точність SVM: 0.3330031981842567\n",
      "Середня точність Випадкового лісу: 0.33147632311977715\n",
      "Classification Report for SVM:\n",
      "               precision    recall  f1-score   support\n",
      "\n",
      "      Class1       0.33      0.36      0.35     64620\n",
      "      Class2       0.33      0.21      0.26     64620\n",
      "      Class3       0.33      0.43      0.37     64620\n",
      "\n",
      "    accuracy                           0.33    193860\n",
      "   macro avg       0.33      0.33      0.33    193860\n",
      "weighted avg       0.33      0.33      0.33    193860\n",
      "\n",
      "Classification Report for Random Forest:\n",
      "               precision    recall  f1-score   support\n",
      "\n",
      "      Class1       0.33      0.28      0.30     64620\n",
      "      Class2       0.33      0.32      0.33     64620\n",
      "      Class3       0.33      0.39      0.36     64620\n",
      "\n",
      "    accuracy                           0.33    193860\n",
      "   macro avg       0.33      0.33      0.33    193860\n",
      "weighted avg       0.33      0.33      0.33    193860\n",
      "\n"
     ]
    }
   ],
   "source": [
    "from sklearn.model_selection import cross_val_score\n",
    "from sklearn.metrics import classification_report\n",
    "\n",
    "svm_model = SVC()\n",
    "svm_scores = cross_val_score(svm_model, X, y, cv=5, n_jobs=-1)\n",
    "svm_report = classification_report(y, cross_val_predict(svm_model, X, y, cv=5))\n",
    "\n",
    "rf_model = RandomForestClassifier()\n",
    "rf_scores = cross_val_score(rf_model, X, y, cv=5, n_jobs=-1)\n",
    "rf_report = classification_report(y, cross_val_predict(rf_model, X, y, cv=5))\n",
    "\n",
    "print(f\"Середня точність SVM: {svm_scores.mean()}\")\n",
    "print(f\"Середня точність Випадкового лісу: {rf_scores.mean()}\")\n",
    "\n",
    "print(\"Classification Report for SVM:\\n\", svm_report)\n",
    "print(\"Classification Report for Random Forest:\\n\", rf_report)\n"
   ]
  },
  {
   "cell_type": "markdown",
   "metadata": {},
   "source": [
    "Базуючись на поданих результатів, можна зробити наступні висновки:\n",
    "\n",
    "Моделі: Здається, що SVM та випадковий ліс мають подібну середню точність. Обидві моделі показують приблизно однаковий рівень ефективності.\n",
    "\n",
    "Фічі: Наразі важко визначити, які фічі працюють краще без докладного аналізу. Проте, можна провести подальші експерименти, включаючи видалення або додавання фіч та тюнінг гіперпараметрів для кращого розуміння того, як певні фічі впливають на результати.\n",
    "\n",
    "Поліпшення результатів: Щоб подальше поліпшити результати, можна спробувати наступні кроки:\n",
    "\n",
    "Тюнінг гіперпараметрів для кращого адаптування моделей до даних.\n",
    "Використання більш складних стратегій підготовки даних.\n",
    "Подальший аналіз важливості фіч для кращого відбору.\n",
    "Використання інших алгоритмів класифікації, які можуть відповідати особливостям даних.\n",
    "Загалом, важливо продовжувати експериментувати та аналізувати результати для забезпечення найкращої ефективності моделей у вашому конкретному випадку."
   ]
  }
 ],
 "metadata": {
  "kernelspec": {
   "display_name": "Python 3",
   "language": "python",
   "name": "python3"
  },
  "language_info": {
   "codemirror_mode": {
    "name": "ipython",
    "version": 3
   },
   "file_extension": ".py",
   "mimetype": "text/x-python",
   "name": "python",
   "nbconvert_exporter": "python",
   "pygments_lexer": "ipython3",
   "version": "3.10.8"
  }
 },
 "nbformat": 4,
 "nbformat_minor": 2
}
